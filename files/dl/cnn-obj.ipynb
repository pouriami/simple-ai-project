{
 "cells": [
  {
   "cell_type": "code",
   "execution_count": 1,
   "id": "25f344b5",
   "metadata": {},
   "outputs": [
    {
     "name": "stdout",
     "output_type": "stream",
     "text": [
      "GPUs available: 1\n",
      "PhysicalDevice(name='/physical_device:GPU:0', device_type='GPU')\n"
     ]
    }
   ],
   "source": [
    "import tensorflow as tf\n",
    "from tensorflow import keras\n",
    "gpus = tf.config.list_physical_devices('GPU')\n",
    "if gpus:\n",
    "    print(f\"GPUs available: {len(gpus)}\")\n",
    "    for gpu in gpus:\n",
    "        print(gpu)\n",
    "else:\n",
    "    print(\"No GPUs available.\")"
   ]
  },
  {
   "cell_type": "code",
   "execution_count": 2,
   "id": "690cea3e",
   "metadata": {},
   "outputs": [],
   "source": [
    "import numpy as np\n",
    "import pandas as pd\n",
    "import matplotlib.pyplot as plt"
   ]
  },
  {
   "cell_type": "code",
   "execution_count": 3,
   "id": "54517df9",
   "metadata": {},
   "outputs": [
    {
     "name": "stdout",
     "output_type": "stream",
     "text": [
      "✅ داده‌ها با موفقیت لود شدند!\n",
      "تصاویر آموزشی: (50000, 32, 32, 3) (مقادیر پیکسل بین 0 تا 255)\n",
      "برچسب‌های آموزشی: (50000,)\n",
      "تصاویر تست: (10000, 32, 32, 3)\n",
      "نام کلاس‌ها: ['airplane', 'automobile', 'bird', 'cat', 'deer', 'dog', 'frog', 'horse', 'ship', 'truck']\n"
     ]
    }
   ],
   "source": [
    "import tarfile\n",
    "import pickle\n",
    "import numpy as np\n",
    "import os\n",
    "\n",
    "def load_cifar10_from_tar(cifar10_path, extract_dir):\n",
    "    \"\"\"لود دیتاست CIFAR-10 از فایل tar.gz بدون هیچ تغییری\"\"\"\n",
    "    \n",
    "    # اکسترکت فایل\n",
    "    with tarfile.open(cifar10_path, 'r:gz') as tar:\n",
    "        tar.extractall(path=extract_dir)\n",
    "    \n",
    "    def load_batch(file_path):\n",
    "        \"\"\"لود یک بچ از CIFAR-10\"\"\"\n",
    "        with open(file_path, 'rb') as f:\n",
    "            batch = pickle.load(f, encoding='latin1')\n",
    "            images = batch['data'].reshape(-1, 3, 32, 32).transpose(0, 2, 3, 1)\n",
    "            labels = batch['labels']\n",
    "            return images, np.array(labels)\n",
    "    \n",
    "    # لود داده‌های آموزشی\n",
    "    train_images, train_labels = [], []\n",
    "    for i in range(1, 6):\n",
    "        batch_path = os.path.join(extract_dir, 'cifar-10-batches-py', f'data_batch_{i}')\n",
    "        images, labels = load_batch(batch_path)\n",
    "        train_images.append(images)\n",
    "        train_labels.append(labels)\n",
    "    \n",
    "    # ترکیب بچ‌ها\n",
    "    train_images = np.concatenate(train_images)\n",
    "    train_labels = np.concatenate(train_labels)\n",
    "    \n",
    "    # لود داده‌های تست\n",
    "    test_path = os.path.join(extract_dir, 'cifar-10-batches-py', 'test_batch')\n",
    "    test_images, test_labels = load_batch(test_path)\n",
    "    \n",
    "    # نام کلاس‌ها\n",
    "    meta_path = os.path.join(extract_dir, 'cifar-10-batches-py', 'batches.meta')\n",
    "    with open(meta_path, 'rb') as f:\n",
    "        meta = pickle.load(f, encoding='latin1')\n",
    "        class_names = meta['label_names']\n",
    "    \n",
    "    return (train_images, train_labels), (test_images, test_labels), class_names\n",
    "\n",
    "# مسیرهای فایل\n",
    "cifar10_path = r\"D:\\Just be better\\AI2\\aio learn projects\\dl\\data\\cifar10\\cifar-10-python.tar.gz\"\n",
    "extract_dir = r\"D:\\Just be better\\AI2\\aio learn projects\\dl\\data\\cifar10_extracted\"\n",
    "\n",
    "# لود داده‌ها\n",
    "(train_images, train_labels), (test_images, test_labels), class_names = load_cifar10_from_tar(cifar10_path, extract_dir)\n",
    "\n",
    "# نمایش اطلاعات\n",
    "print(\"✅ داده‌ها با موفقیت لود شدند!\")\n",
    "print(f\"تصاویر آموزشی: {train_images.shape} (مقادیر پیکسل بین {train_images.min()} تا {train_images.max()})\")\n",
    "print(f\"برچسب‌های آموزشی: {train_labels.shape}\")\n",
    "print(f\"تصاویر تست: {test_images.shape}\")\n",
    "print(f\"نام کلاس‌ها: {class_names}\")"
   ]
  },
  {
   "cell_type": "code",
   "execution_count": 4,
   "id": "8858b269",
   "metadata": {},
   "outputs": [],
   "source": [
    "class_names = ['airplane', 'automobile', 'bird', 'cat', 'deer',\n",
    "               'dog', 'frog', 'horse', 'ship', 'truck']"
   ]
  },
  {
   "cell_type": "code",
   "execution_count": 5,
   "id": "0ff5209b",
   "metadata": {},
   "outputs": [],
   "source": [
    "train_images , test_images = train_images / 255.0 , test_images / 255.0"
   ]
  },
  {
   "cell_type": "code",
   "execution_count": 6,
   "id": "7a603033",
   "metadata": {},
   "outputs": [
    {
     "data": {
      "image/png": "[encoded data removed]",
      "text/plain": [
       "<Figure size 640x480 with 1 Axes>"
      ]
     },
     "metadata": {},
     "output_type": "display_data"
    },
    {
     "name": "stdout",
     "output_type": "stream",
     "text": [
      "truck\n"
     ]
    }
   ],
   "source": [
    "import matplotlib.pyplot as plt\n",
    "\n",
    "plt.imshow(train_images[1]) \n",
    "plt.show()\n",
    "print(class_names[train_labels[1]])"
   ]
  },
  {
   "cell_type": "code",
   "execution_count": 7,
   "id": "b532cd40",
   "metadata": {},
   "outputs": [],
   "source": [
    "from keras import models\n",
    "from keras.layers import Dense,Conv2D,MaxPooling2D,Flatten\n",
    "\n",
    "model = models.Sequential()\n",
    "model.add(Conv2D(32, kernel_size=(3,3),activation='relu',input_shape = (32,32,3)))\n",
    "model.add(MaxPooling2D((2,2)))\n",
    "model.add(Conv2D(64, kernel_size=(3,3),activation='relu'))\n",
    "model.add(MaxPooling2D((2,2)))\n",
    "model.add(Conv2D(64, kernel_size=(3,3),activation='relu'))\n",
    "model.add(Flatten())\n",
    "model.add(Dense(64,activation='relu'))\n",
    "model.add(Dense(10))\n"
   ]
  },
  {
   "cell_type": "code",
   "execution_count": 8,
   "id": "7036bd65",
   "metadata": {},
   "outputs": [
    {
     "name": "stdout",
     "output_type": "stream",
     "text": [
      "Model: \"sequential\"\n",
      "_________________________________________________________________\n",
      " Layer (type)                Output Shape              Param #   \n",
      "=================================================================\n",
      " conv2d (Conv2D)             (None, 30, 30, 32)        896       \n",
      "                                                                 \n",
      " max_pooling2d (MaxPooling2D  (None, 15, 15, 32)       0         \n",
      " )                                                               \n",
      "                                                                 \n",
      " conv2d_1 (Conv2D)           (None, 13, 13, 64)        18496     \n",
      "                                                                 \n",
      " max_pooling2d_1 (MaxPooling  (None, 6, 6, 64)         0         \n",
      " 2D)                                                             \n",
      "                                                                 \n",
      " conv2d_2 (Conv2D)           (None, 4, 4, 64)          36928     \n",
      "                                                                 \n",
      " flatten (Flatten)           (None, 1024)              0         \n",
      "                                                                 \n",
      " dense (Dense)               (None, 64)                65600     \n",
      "                                                                 \n",
      " dense_1 (Dense)             (None, 10)                650       \n",
      "                                                                 \n",
      "=================================================================\n",
      "Total params: 122,570\n",
      "Trainable params: 122,570\n",
      "Non-trainable params: 0\n",
      "_________________________________________________________________\n"
     ]
    }
   ],
   "source": [
    "model.summary()"
   ]
  },
  {
   "cell_type": "code",
   "execution_count": 9,
   "id": "19d43efe",
   "metadata": {},
   "outputs": [],
   "source": [
    "model.compile(optimizer='adam',metrics=['accuracy'],\n",
    "              loss=keras.losses.SparseCategoricalCrossentropy(from_logits=True))"
   ]
  },
  {
   "cell_type": "code",
   "execution_count": 10,
   "id": "9937710b",
   "metadata": {},
   "outputs": [
    {
     "name": "stdout",
     "output_type": "stream",
     "text": [
      "Epoch 1/10\n",
      "1563/1563 [==============================] - 19s 3ms/step - loss: 1.5100 - accuracy: 0.4481 - val_loss: 1.1995 - val_accuracy: 0.5687\n",
      "Epoch 2/10\n",
      "1563/1563 [==============================] - 4s 3ms/step - loss: 1.1474 - accuracy: 0.5940 - val_loss: 1.1027 - val_accuracy: 0.6118\n",
      "Epoch 3/10\n",
      "1563/1563 [==============================] - 4s 3ms/step - loss: 0.9998 - accuracy: 0.6463 - val_loss: 1.0092 - val_accuracy: 0.6437\n",
      "Epoch 4/10\n",
      "1563/1563 [==============================] - 4s 3ms/step - loss: 0.9059 - accuracy: 0.6830 - val_loss: 0.9527 - val_accuracy: 0.6663\n",
      "Epoch 5/10\n",
      "1563/1563 [==============================] - 5s 3ms/step - loss: 0.8337 - accuracy: 0.7076 - val_loss: 0.8912 - val_accuracy: 0.6927\n",
      "Epoch 6/10\n",
      "1563/1563 [==============================] - 5s 3ms/step - loss: 0.7728 - accuracy: 0.7283 - val_loss: 0.9907 - val_accuracy: 0.6631\n",
      "Epoch 7/10\n",
      "1563/1563 [==============================] - 5s 3ms/step - loss: 0.7295 - accuracy: 0.7447 - val_loss: 0.8870 - val_accuracy: 0.6956\n",
      "Epoch 8/10\n",
      "1563/1563 [==============================] - 5s 3ms/step - loss: 0.6847 - accuracy: 0.7582 - val_loss: 0.8763 - val_accuracy: 0.7040\n",
      "Epoch 9/10\n",
      "1563/1563 [==============================] - 6s 4ms/step - loss: 0.6453 - accuracy: 0.7750 - val_loss: 0.9006 - val_accuracy: 0.7013\n",
      "Epoch 10/10\n",
      "1563/1563 [==============================] - 6s 4ms/step - loss: 0.6111 - accuracy: 0.7847 - val_loss: 0.9095 - val_accuracy: 0.7005\n"
     ]
    }
   ],
   "source": [
    "h = model.fit(train_images,train_labels,epochs=10,validation_data=(test_images,test_labels))"
   ]
  },
  {
   "cell_type": "code",
   "execution_count": 46,
   "id": "66f34449",
   "metadata": {},
   "outputs": [
    {
     "data": {
      "text/plain": [
       "'cat'"
      ]
     },
     "execution_count": 46,
     "metadata": {},
     "output_type": "execute_result"
    },
    {
     "data": {
      "image/png": "[encoded data removed]",
      "text/plain": [
       "<Figure size 640x480 with 1 Axes>"
      ]
     },
     "metadata": {},
     "output_type": "display_data"
    }
   ],
   "source": [
    "plt.imshow(test_images[8])\n",
    "class_names[test_labels[8]]"
   ]
  },
  {
   "cell_type": "code",
   "execution_count": 49,
   "id": "d4bf3bc9",
   "metadata": {},
   "outputs": [
    {
     "name": "stdout",
     "output_type": "stream",
     "text": [
      "1/1 [==============================] - 0s 13ms/step\n",
      "پیش‌بینی‌ها: [[ -4.8523498  -7.604472    1.7923757   2.9234948   2.307848    1.06924\n",
      "    2.7941952   0.7995504 -10.772399   -8.450419 ]]\n",
      "\n",
      "کلاس پیش‌بینی شده: cat\n",
      "با احتمال: 2.9235\n"
     ]
    },
    {
     "data": {
      "image/png": "[encoded data removed]",
      "text/plain": [
       "<Figure size 640x480 with 1 Axes>"
      ]
     },
     "metadata": {},
     "output_type": "display_data"
    }
   ],
   "source": [
    "test_sample = np.array([test_images[8]])  # شکل (1, 32, 32, 3)\n",
    "\n",
    "predictions = model.predict(test_sample)\n",
    "print(\"پیش‌بینی‌ها:\", predictions)\n",
    "\n",
    "predicted_class = np.argmax(predictions[0])  # اندیس کلاس پیش‌بینی شده\n",
    "max_probability = predictions[0][predicted_class]  # بیشترین مقدار احتمال\n",
    "\n",
    "print(f\"\\nکلاس پیش‌بینی شده: {class_names[predicted_class]}\")\n",
    "print(f\"با احتمال: {max_probability:.4f}\")\n",
    "\n",
    "plt.imshow(test_images[6])\n",
    "plt.title(f\"واقعی: {class_names[test_labels[6]]}\\nپیش‌بینی: {class_names[predicted_class]}\")\n",
    "plt.axis('off')\n",
    "plt.show()"
   ]
  }
 ],
 "metadata": {
  "kernelspec": {
   "display_name": "ai",
   "language": "python",
   "name": "python3"
  },
  "language_info": {
   "codemirror_mode": {
    "name": "ipython",
    "version": 3
   },
   "file_extension": ".py",
   "mimetype": "text/x-python",
   "name": "python",
   "nbconvert_exporter": "python",
   "pygments_lexer": "ipython3",
   "version": "3.10.16"
  }
 },
 "nbformat": 4,
 "nbformat_minor": 5
}
