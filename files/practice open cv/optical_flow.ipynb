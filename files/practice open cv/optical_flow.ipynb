{
 "cells": [
  {
   "cell_type": "code",
   "execution_count": 2,
   "metadata": {},
   "outputs": [],
   "source": [
    "import cv2\n",
    "import numpy as np"
   ]
  },
  {
   "cell_type": "code",
   "execution_count": null,
   "metadata": {},
   "outputs": [],
   "source": [
    "cap = cv2.VideoCapture('data/slow.flv')\n",
    "\n",
    "ret , f_frame = cap.read()\n",
    "\n",
    "prev_gray = cv2.cvtColor(f_frame , cv2.COLOR_BGR2GRAY)\n",
    "\n",
    "mask = np.zeros_like(f_frame)\n",
    "\n",
    "mask[...,1] = 255\n",
    "\n",
    "while(cap.isOpened):\n",
    "    ret , frame = cap.read()\n",
    "    cv2.imshow(\"input\",frame)\n",
    "    gray = cv2.cvtColor(frame, cv2.COLOR_BGR2GRAY)\n",
    "    flow = cv2.calcOpticalFlowFarneback(prev_gray , gray , None , 0.5 , 3 , 15 , 3 , 5 , 1.2 , 0)\n",
    "    magnitude , angel = cv2.cartToPolar(flow[...,0],flow[...,1])\n",
    "    mask[...,0] = angel*180 / np.pi / 2\n",
    "    mask[...,2] = cv2.normalize(magnitude , None , 0 , 255 , cv2.NORM_MINMAX)\n",
    "    rgb = cv2.cvtColor(mask , cv2.COLOR_HSV2BGR)\n",
    "    cv2.imshow(\"dense optical flow\",rgb)\n",
    "    prev_gray = gray\n",
    "    if cv2.waitKey(1) & 0xFF == ord('q'):\n",
    "        break\n",
    "cap.release()\n",
    "cv2.destroyAllWindows()\n"
   ]
  }
 ],
 "metadata": {
  "kernelspec": {
   "display_name": "base",
   "language": "python",
   "name": "python3"
  },
  "language_info": {
   "codemirror_mode": {
    "name": "ipython",
    "version": 3
   },
   "file_extension": ".py",
   "mimetype": "text/x-python",
   "name": "python",
   "nbconvert_exporter": "python",
   "pygments_lexer": "ipython3",
   "version": "3.12.7"
  }
 },
 "nbformat": 4,
 "nbformat_minor": 2
}
