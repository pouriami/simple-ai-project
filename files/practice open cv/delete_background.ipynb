{
 "cells": [
  {
   "cell_type": "code",
   "execution_count": 38,
   "metadata": {},
   "outputs": [],
   "source": [
    "import numpy as np\n",
    "import matplotlib.pyplot as plt\n",
    "import cv2 "
   ]
  },
  {
   "cell_type": "code",
   "execution_count": 39,
   "metadata": {},
   "outputs": [],
   "source": [
    "def imshow(title = 'titel' , image = None , size =10):\n",
    "    w , h = image.shape[0] , image.shape[1]\n",
    "    aspect_ratio = w/h\n",
    "    plt.figure(figsize=(size * aspect_ratio, size))\n",
    "    plt.imshow(cv2.cvtColor(image,cv2.COLOR_BGR2RGB))\n",
    "    plt.title(title)\n",
    "    plt.show()"
   ]
  },
  {
   "cell_type": "code",
   "execution_count": 46,
   "metadata": {},
   "outputs": [
    {
     "name": "stderr",
     "output_type": "stream",
     "text": [
      "<>:1: SyntaxWarning: invalid escape sequence '\\w'\n",
      "<>:1: SyntaxWarning: invalid escape sequence '\\w'\n",
      "C:\\Users\\MSI\\AppData\\Local\\Temp\\ipykernel_20932\\1644460088.py:1: SyntaxWarning: invalid escape sequence '\\w'\n",
      "  cap = cv2.VideoCapture('data\\walking.mp4')\n"
     ]
    },
    {
     "name": "stdout",
     "output_type": "stream",
     "text": [
      "Video processing complete. Output saved as 'back_output.mp4'.\n"
     ]
    }
   ],
   "source": [
    "cap = cv2.VideoCapture('data\\walking.mp4')\n",
    "w = int(cap.get(3))    \n",
    "h = int(cap.get(4))    \n",
    "\n",
    "out = cv2.VideoWriter('back_output.mp4', cv2.VideoWriter_fourcc('m','p','4','v'), 30, (w, h))\n",
    "\n",
    "foreground_background = cv2.createBackgroundSubtractorMOG2()\n",
    "\n",
    "f = 0\n",
    "\n",
    "while True:\n",
    "    ret, frame = cap.read()  \n",
    "    if ret:\n",
    "        foreground_mask = foreground_background.apply(frame)  \n",
    "        \n",
    "        foreground_mask_color = cv2.cvtColor(foreground_mask, cv2.COLOR_GRAY2BGR)\n",
    "        \n",
    "        out.write(foreground_mask_color)  \n",
    "    else:\n",
    "        break\n",
    "\n",
    "cap.release()\n",
    "out.release()\n",
    "print(\"Video processing complete. Output saved as 'back_output.mp4'.\")"
   ]
  },
  {
   "cell_type": "code",
   "execution_count": 1,
   "metadata": {},
   "outputs": [],
   "source": [
    "import cv2\n",
    "\n",
    "cap = cv2.VideoCapture(0)\n",
    "\n",
    "if not cap.isOpened():\n",
    "    print(\"Error: Could not open webcam.\")\n",
    "    exit()\n",
    "\n",
    "w = int(cap.get(cv2.CAP_PROP_FRAME_WIDTH))\n",
    "h = int(cap.get(cv2.CAP_PROP_FRAME_HEIGHT))\n",
    "\n",
    "\n",
    "foreground_background = cv2.createBackgroundSubtractorKNN()\n",
    "\n",
    "while True:\n",
    "    ret, frame = cap.read()  \n",
    "    if ret:\n",
    "    \n",
    "        foreground_mask = foreground_background.apply(frame)\n",
    "        \n",
    "        cv2.imshow(\"Webcam Frame\", frame)\n",
    "        cv2.imshow(\"Foreground Mask\", foreground_mask)\n",
    "        \n",
    "        \n",
    "        if cv2.waitKey(1) & 0xFF == ord('q'):\n",
    "            break\n",
    "    else:\n",
    "        break\n",
    "\n",
    "cap.release()\n",
    "cv2.destroyAllWindows()"
   ]
  },
  {
   "cell_type": "code",
   "execution_count": null,
   "metadata": {},
   "outputs": [
    {
     "name": "stderr",
     "output_type": "stream",
     "text": [
      "<>:1: SyntaxWarning: invalid escape sequence '\\w'\n",
      "<>:1: SyntaxWarning: invalid escape sequence '\\w'\n",
      "C:\\Users\\MSI\\AppData\\Local\\Temp\\ipykernel_20932\\3240883029.py:1: SyntaxWarning: invalid escape sequence '\\w'\n",
      "  cap = cv2.VideoCapture('data\\walking.mp4')\n"
     ]
    }
   ],
   "source": [
    "cap = cv2.VideoCapture('data\\walking.mp4')\n",
    "w = int(cap.get(3))\n",
    "h = int(cap.get(4))\n",
    "\n",
    "out = cv2.VideoWriter('back_output.mp4', cv2.VideoWriter_fourcc('m','p','4','v'), 30, (w, h))\n",
    "\n",
    "kernel = cv2.getStructuringElement(cv2.MORPH_ELLIPSE , (3,3))\n",
    "\n",
    "fgbg = cv2.createBackgroundSubtractorKNN()\n",
    "\n",
    "while True:\n",
    "    ret , frame = cap.read()\n",
    "\n",
    "    if ret:\n",
    "        foreground_mask = fgbg.apply(frame)\n",
    "\n",
    "        foreground_mask  = cv2.morphologyEx(foreground_mask ,cv2.MORPH_OPEN ,kernel)\n",
    "        foreground_mask_color = cv2.cvtColor(foreground_mask, cv2.COLOR_GRAY2BGR)\n",
    "        out.write(foreground_mask_color)\n",
    "    else:\n",
    "        break\n",
    "cap.release()\n",
    "out.release()\n"
   ]
  }
 ],
 "metadata": {
  "kernelspec": {
   "display_name": "base",
   "language": "python",
   "name": "python3"
  },
  "language_info": {
   "codemirror_mode": {
    "name": "ipython",
    "version": 3
   },
   "file_extension": ".py",
   "mimetype": "text/x-python",
   "name": "python",
   "nbconvert_exporter": "python",
   "pygments_lexer": "ipython3",
   "version": "3.12.7"
  }
 },
 "nbformat": 4,
 "nbformat_minor": 2
}
