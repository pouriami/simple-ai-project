{
 "cells": [
  {
   "cell_type": "code",
   "metadata": {
    "ExecuteTime": {
     "end_time": "2025-02-14T15:36:17.109779Z",
     "start_time": "2025-02-14T15:36:17.105754Z"
    }
   },
   "source": [
    "import numpy as np \n",
    "import matplotlib.pyplot as plt\n",
    "import cv2"
   ],
   "outputs": [],
   "execution_count": 11
  },
  {
   "cell_type": "code",
   "metadata": {
    "ExecuteTime": {
     "end_time": "2025-02-14T15:36:17.141685Z",
     "start_time": "2025-02-14T15:36:17.111786Z"
    }
   },
   "source": [
    "face_detect = cv2.CascadeClassifier('xmls/haarcascade_frontalface_default.xml')\n",
    "eye_detect = cv2.CascadeClassifier('xmls/haarcascade_eye.xml')"
   ],
   "outputs": [],
   "execution_count": 12
  },
  {
   "cell_type": "code",
   "metadata": {
    "ExecuteTime": {
     "end_time": "2025-02-14T15:36:17.150845Z",
     "start_time": "2025-02-14T15:36:17.143702Z"
    }
   },
   "source": [
    "def face(image , size = 0.5):\n",
    "    gray = cv2.cvtColor(image , cv2.COLOR_BGR2GRAY)\n",
    "    faces = face_detect.detectMultiScale(gray , 1.3 , 5)\n",
    "    if faces is ():\n",
    "        return image\n",
    "    for (x,y,w,h) in faces:\n",
    "        x = x - 50\n",
    "        y = y - 50\n",
    "        w = w + 50\n",
    "        h = h + 50\n",
    "        cv2.rectangle(image , (x,y) , (x+w , y+h) , (255,0,0) , 2)\n",
    "        roi_gray = gray[y:y+h , x:x+w]\n",
    "        roi_color = image[y:y+h , x:x+w]\n",
    "        eyes = eye_detect.detectMultiScale(roi_gray)\n",
    "        for (ex , ey , ew , eh) in eyes:\n",
    "            cv2.rectangle(roi_color , (ex , ey) , (ex+ew , ey+eh) , (0,255,0) , 2)\n",
    "    roi_color = cv2.flip(roi_color , 1)\n",
    "    return roi_color\n"
   ],
   "outputs": [
    {
     "name": "stderr",
     "output_type": "stream",
     "text": [
      "<>:4: SyntaxWarning: \"is\" with 'tuple' literal. Did you mean \"==\"?\n",
      "<>:4: SyntaxWarning: \"is\" with 'tuple' literal. Did you mean \"==\"?\n",
      "C:\\Users\\SAM-Tech\\AppData\\Local\\Temp\\ipykernel_24672\\2890743627.py:4: SyntaxWarning: \"is\" with 'tuple' literal. Did you mean \"==\"?\n",
      "  if faces is ():\n"
     ]
    }
   ],
   "execution_count": 13
  },
  {
   "cell_type": "code",
   "metadata": {
    "ExecuteTime": {
     "end_time": "2025-02-14T15:36:45.958050Z",
     "start_time": "2025-02-14T15:36:17.151853Z"
    }
   },
   "source": [
    "cap = cv2.VideoCapture(0)\n",
    "while True:\n",
    "    ret , frame = cap.read()\n",
    "    cv2.imshow('Face Detection' , face(frame))\n",
    "    if cv2.waitKey(1) & 0xFF == ord('q'):\n",
    "        break\n",
    "cap.release()\n",
    "cv2.destroyAllWindows()"
   ],
   "outputs": [],
   "execution_count": 14
  }
 ],
 "metadata": {
  "kernelspec": {
   "display_name": ".venv",
   "language": "python",
   "name": "python3"
  },
  "language_info": {
   "codemirror_mode": {
    "name": "ipython",
    "version": 3
   },
   "file_extension": ".py",
   "mimetype": "text/x-python",
   "name": "python",
   "nbconvert_exporter": "python",
   "pygments_lexer": "ipython3",
   "version": "3.12.4"
  }
 },
 "nbformat": 4,
 "nbformat_minor": 2
}
