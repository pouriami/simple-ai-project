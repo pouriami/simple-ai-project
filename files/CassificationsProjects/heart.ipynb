{
 "cells": [
  {
   "cell_type": "code",
   "execution_count": null,
   "metadata": {},
   "outputs": [
    {
     "name": "stdout",
     "output_type": "stream",
     "text": [
      "Accuracy Stacking: 0.9154\n"
     ]
    }
   ],
   "source": [
    "from sklearn.ensemble import StackingClassifier\n",
    "from sklearn.linear_model import LogisticRegression\n",
    "from sklearn.ensemble import RandomForestClassifier\n",
    "from sklearn.svm import SVC\n",
    "from sklearn.model_selection import train_test_split\n",
    "from sklearn.preprocessing import MinMaxScaler\n",
    "from imblearn.over_sampling import SMOTE\n",
    "from sklearn.metrics import roc_auc_score\n",
    "import pandas as pd\n",
    "\n",
    "df = pd.read_csv(\"../data/framingham.csv\")\n",
    "\n",
    "\n",
    "df.dropna(inplace=True)\n",
    "\n",
    "\n",
    "X = df.drop(columns=[\"TenYearCHD\"])\n",
    "y = df[\"TenYearCHD\"]\n",
    "\n",
    "\n",
    "smote = SMOTE(random_state=42)\n",
    "X_resampled, y_resampled = smote.fit_resample(X, y)\n",
    "\n",
    "\n",
    "scaler = MinMaxScaler()\n",
    "X_scaled = scaler.fit_transform(X_resampled)\n",
    "\n",
    "X_train, X_test, y_train, y_test = train_test_split(X_scaled, y_resampled, test_size=0.2, random_state=42)\n",
    "\n",
    "\n",
    "rf_model = RandomForestClassifier(n_estimators=200, random_state=42)\n",
    "svm_model = SVC(probability=True, kernel='rbf', C=1.0, random_state=42)\n",
    "\n",
    "stacking_model = StackingClassifier(\n",
    "    estimators=[('rf', rf_model), ('svm', svm_model)],\n",
    "    final_estimator=LogisticRegression(),\n",
    "    passthrough=True  \n",
    ")\n",
    "\n",
    "stacking_model.fit(X_train, y_train)\n",
    "\n",
    "from sklearn.metrics import accuracy_score\n",
    "\n",
    "\n",
    "y_pred_stack = stacking_model.predict(X_test)  \n",
    "\n",
    "accuracy_stack = accuracy_score(y_test, y_pred_stack)\n",
    "\n",
    "print(f\"Accuracy Stacking: {accuracy_stack:.4f}\")\n"
   ]
  },
  {
   "cell_type": "code",
   "execution_count": null,
   "metadata": {},
   "outputs": [
    {
     "name": "stdout",
     "output_type": "stream",
     "text": [
      "ROC-AUC Stacking: 0.9673\n",
      "Accuracy Stacking: 0.9194\n"
     ]
    }
   ],
   "source": [
    "\n",
    "from sklearn.ensemble import StackingClassifier\n",
    "from sklearn.linear_model import LogisticRegression\n",
    "from sklearn.ensemble import RandomForestClassifier\n",
    "from sklearn.svm import SVC\n",
    "from sklearn.neighbors import KNeighborsClassifier\n",
    "from sklearn.model_selection import train_test_split\n",
    "from sklearn.preprocessing import MinMaxScaler\n",
    "from imblearn.over_sampling import SMOTE\n",
    "from sklearn.metrics import roc_auc_score\n",
    "import pandas as pd\n",
    "\n",
    "df = pd.read_csv(\"../data/framingham.csv\")\n",
    "\n",
    "\n",
    "df.dropna(inplace=True)\n",
    "\n",
    "\n",
    "X = df.drop(columns=[\"TenYearCHD\"])\n",
    "y = df[\"TenYearCHD\"]\n",
    "\n",
    "smote = SMOTE(random_state=42)\n",
    "X_resampled, y_resampled = smote.fit_resample(X, y)\n",
    "\n",
    "\n",
    "scaler = MinMaxScaler()\n",
    "X_scaled = scaler.fit_transform(X_resampled)\n",
    "\n",
    "X_train, X_test, y_train, y_test = train_test_split(X_scaled, y_resampled, test_size=0.2, random_state=42)\n",
    "\n",
    "rf_model = RandomForestClassifier(n_estimators=200, random_state=42)\n",
    "svm_model = SVC(probability=True, kernel='rbf', C=1.0, random_state=42)\n",
    "knn = KNeighborsClassifier(n_neighbors=5)\n",
    "lr = LogisticRegression()\n",
    "\n",
    "stacking_model = StackingClassifier(\n",
    "    estimators=[('rf', rf_model), ('svm', svm_model) , ('knn', knn)],\n",
    "    final_estimator=lr,\n",
    "    passthrough=True  \n",
    ")\n",
    "\n",
    "stacking_model.fit(X_train, y_train)\n",
    "\n",
    "y_pred_prob_stack = stacking_model.predict_proba(X_test)[:, 1]\n",
    "from sklearn.metrics import accuracy_score\n",
    "\n",
    "\n",
    "roc_auc_stack = roc_auc_score(y_test, y_pred_prob_stack)\n",
    "print(f\"ROC-AUC Stacking: {roc_auc_stack:.4f}\")\n",
    "y_pred_stack = stacking_model.predict(X_test) \n",
    "\n",
    "accuracy_stack = accuracy_score(y_test, y_pred_stack)\n",
    "\n",
    "print(f\"Accuracy Stacking: {accuracy_stack:.4f}\")\n"
   ]
  }
 ],
 "metadata": {
  "kernelspec": {
   "display_name": "base",
   "language": "python",
   "name": "python3"
  },
  "language_info": {
   "codemirror_mode": {
    "name": "ipython",
    "version": 3
   },
   "file_extension": ".py",
   "mimetype": "text/x-python",
   "name": "python",
   "nbconvert_exporter": "python",
   "pygments_lexer": "ipython3",
   "version": "3.12.7"
  }
 },
 "nbformat": 4,
 "nbformat_minor": 2
}
